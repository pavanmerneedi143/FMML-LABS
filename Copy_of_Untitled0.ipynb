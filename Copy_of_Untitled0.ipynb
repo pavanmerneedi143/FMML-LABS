{
  "nbformat": 4,
  "nbformat_minor": 0,
  "metadata": {
    "colab": {
      "provenance": [],
      "include_colab_link": true
    },
    "kernelspec": {
      "name": "python3",
      "display_name": "Python 3"
    },
    "language_info": {
      "name": "python"
    }
  },
  "cells": [
    {
      "cell_type": "markdown",
      "metadata": {
        "id": "view-in-github",
        "colab_type": "text"
      },
      "source": [
        "<a href=\"https://colab.research.google.com/github/pavanmerneedi143/FMML-LABS/blob/main/Copy_of_Untitled0.ipynb\" target=\"_parent\"><img src=\"https://colab.research.google.com/assets/colab-badge.svg\" alt=\"Open In Colab\"/></a>"
      ]
    },
    {
      "cell_type": "code",
      "execution_count": null,
      "metadata": {
        "colab": {
          "base_uri": "https://localhost:8080/"
        },
        "id": "02frPREY8agu",
        "outputId": "7c7046b3-8295-45d6-d2ba-bef26f7fdad9"
      },
      "outputs": [
        {
          "output_type": "stream",
          "name": "stdout",
          "text": [
            "Twinkle, twinkle, little star,\n",
            "     How I wonder what you are!\n",
            "                  Up above the world so high,\n",
            "                   Like a diamond in the sky.\n",
            "Twinkle, twinkle, little star,\n",
            "     How I wonder what you are\n"
          ]
        }
      ],
      "source": [
        "#1ANSWER\n",
        "\n",
        "\n",
        "print(\"Twinkle, twinkle, little star,\")\n",
        "print(\"     How I wonder what you are!\")\n",
        "print(\"                  Up above the world so high,\")\n",
        "print(\"                   Like a diamond in the sky.\")\n",
        "print(\"Twinkle, twinkle, little star,\")\n",
        "print(\"     How I wonder what you are\")"
      ]
    },
    {
      "cell_type": "code",
      "source": [
        "#2ANSWER\n",
        "\n",
        "\n",
        "!Python --version"
      ],
      "metadata": {
        "colab": {
          "base_uri": "https://localhost:8080/"
        },
        "id": "zGh3Gp0YA7Ls",
        "outputId": "f7cf3808-5c65-4a04-e226-ce00d6c78ae6"
      },
      "execution_count": null,
      "outputs": [
        {
          "output_type": "stream",
          "name": "stdout",
          "text": [
            "/bin/bash: line 1: Python: command not found\n"
          ]
        }
      ]
    },
    {
      "cell_type": "code",
      "source": [
        "#3ANSWER\n",
        "\n",
        "\n",
        "import datetime\n",
        "\n",
        "# Get the current date and time\n",
        "current_datetime = datetime.datetime.now()\n",
        "\n",
        "# Format and print the current date and time\n",
        "formatted_datetime = current_datetime.strftime(\"%Y-%m-%d %H:%M:%S\")\n",
        "print(\"Current Date and Time:\", formatted_datetime)\n"
      ],
      "metadata": {
        "colab": {
          "base_uri": "https://localhost:8080/"
        },
        "id": "s6BjpTc2BUDc",
        "outputId": "76ee5edf-fd03-4447-a870-96d5b94a4784"
      },
      "execution_count": null,
      "outputs": [
        {
          "output_type": "stream",
          "name": "stdout",
          "text": [
            "Current Date and Time: 2023-10-02 15:52:14\n"
          ]
        }
      ]
    },
    {
      "cell_type": "code",
      "source": [
        "\n",
        "#4ANSWER\n",
        "\n",
        "import math\n",
        "\n",
        "# Get the radius from the user\n",
        "radius = float(input(\"Enter the radius of the circle: \"))\n",
        "\n",
        "# Calculate the area of the circle\n",
        "area = math.pi * (radius ** 2)\n",
        "\n",
        "# Print the result\n",
        "print(f\"The area of the circle with radius {radius} is {area:.2f}\")\n"
      ],
      "metadata": {
        "colab": {
          "base_uri": "https://localhost:8080/"
        },
        "id": "2AfGDS34Cwz-",
        "outputId": "122866f1-0d2c-4da7-d6eb-aa88942051a5"
      },
      "execution_count": null,
      "outputs": [
        {
          "output_type": "stream",
          "name": "stdout",
          "text": [
            "Enter the radius of the circle: 1.1\n",
            "The area of the circle with radius 1.1 is 3.80\n"
          ]
        }
      ]
    },
    {
      "cell_type": "code",
      "source": [
        "#5ANSWER\n",
        "\n",
        "\n",
        "# Get the user's first name and last name\n",
        "first_name = input(\"Enter your first name: \")\n",
        "last_name = input(\"Enter your last name: \")\n",
        "\n",
        "# Concatenate and print the names in reverse order\n",
        "full_name = last_name + \" \" + first_name\n",
        "print(\"Reversed Name:\", full_name)\n"
      ],
      "metadata": {
        "colab": {
          "base_uri": "https://localhost:8080/"
        },
        "id": "EMvhHarQDXr1",
        "outputId": "6088461a-c89b-4dca-b832-299dc2005cc4"
      },
      "execution_count": null,
      "outputs": [
        {
          "output_type": "stream",
          "name": "stdout",
          "text": [
            "Enter your first name: divya\n",
            "Enter your last name: sri\n",
            "Reversed Name: sri divya\n"
          ]
        }
      ]
    },
    {
      "cell_type": "code",
      "source": [
        "#6ANSWER\n",
        "\n",
        "# Get the comma-separated input from the user\n",
        "input_str = input(\"Enter a sequence of comma-separated numbers: \")\n",
        "\n",
        "# Split the input string by commas and convert it to a list of numbers\n",
        "numbers_list = input_str.split(',')\n",
        "numbers_list = [int(num) for num in numbers_list]\n",
        "\n",
        "# Convert the list to a tuple\n",
        "numbers_tuple = tuple(numbers_list)\n",
        "\n",
        "# Display the list and tuple\n",
        "print(\"List:\", numbers_list)\n",
        "print(\"Tuple:\", numbers_tuple)\n"
      ],
      "metadata": {
        "colab": {
          "base_uri": "https://localhost:8080/"
        },
        "id": "nKCDEB18EnC8",
        "outputId": "8c9f4aba-8eb4-496c-b4cf-abcedad9258b"
      },
      "execution_count": null,
      "outputs": [
        {
          "output_type": "stream",
          "name": "stdout",
          "text": [
            "Enter a sequence of comma-separated numbers: 3,5,7,23\n",
            "List: [3, 5, 7, 23]\n",
            "Tuple: (3, 5, 7, 23)\n"
          ]
        }
      ]
    }
  ]
}